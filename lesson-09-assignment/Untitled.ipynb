{
 "cells": [
  {
   "cell_type": "code",
   "execution_count": 4,
   "id": "b91b3b8f-ad0f-4dc4-94c9-460c9b2fc99a",
   "metadata": {},
   "outputs": [
    {
     "name": "stderr",
     "output_type": "stream",
     "text": [
      "Building prefix dict from the default dictionary ...\n",
      "Dumping model to file cache C:\\Users\\xiaoma\\AppData\\Local\\Temp\\jieba.cache\n",
      "Loading model cost 1.179 seconds.\n",
      "Prefix dict has been built successfully.\n"
     ]
    },
    {
     "name": "stdout",
     "output_type": "stream",
     "text": [
      "['中国', '发展', '世纪', '新年', '国家']\n"
     ]
    }
   ],
   "source": [
    "import re\n",
    "import jieba\n",
    "from sklearn.feature_extraction.text import TfidfVectorizer\n",
    "\n",
    "def chinese_tokenizer(text):\n",
    "    # Regex for matching Chinese characters\n",
    "    pattern = re.compile(r'[\\u4e00-\\u9fff]+')\n",
    "    # Use jieba to tokenize the text and filter with regex to include only Chinese characters\n",
    "    tokens = jieba.cut(text)\n",
    "    return [token for token in tokens if pattern.match(token)]\n",
    "\n",
    "# Your Chinese text file path\n",
    "file_path = \"199801.txt\"\n",
    "\n",
    "def extract_chinese_keywords(file_path, top_n=5):\n",
    "    with open(file_path, 'r', encoding='utf-8') as file:\n",
    "        lines = [next(file) for _ in range(16)]\n",
    "        \n",
    "    # Segmenting and filtering non-Chinese characters\n",
    "    text = [' '.join(chinese_tokenizer(line)) for line in lines]\n",
    "\n",
    "    # Initializing the TF-IDF vectorizer with the custom tokenizer\n",
    "    vectorizer = TfidfVectorizer()\n",
    "\n",
    "    # Generating the TF-IDF matrix\n",
    "    tfidf_matrix = vectorizer.fit_transform(text)\n",
    "\n",
    "    # Getting feature names (words)\n",
    "    feature_names = vectorizer.get_feature_names_out()\n",
    "\n",
    "    # Extracting scores and pairing them with words\n",
    "    scores_words = zip(tfidf_matrix.toarray().sum(axis=0), feature_names)\n",
    "\n",
    "    # Sorting words by their scores\n",
    "    sorted_words = sorted(scores_words, reverse=True, key=lambda x: x[0])\n",
    "\n",
    "    # Selecting the top 'top_n' keywords\n",
    "    top_keywords = [word for _, word in sorted_words[:top_n]]\n",
    "\n",
    "    return top_keywords\n",
    "\n",
    "print(extract_chinese_keywords(file_path))\n"
   ]
  },
  {
   "cell_type": "code",
   "execution_count": 3,
   "id": "5fb3a1e7-83b6-46ff-9b30-f66a2db12f38",
   "metadata": {},
   "outputs": [
    {
     "name": "stdout",
     "output_type": "stream",
     "text": [
      "Collecting scikit-learnNote: you may need to restart the kernel to use updated packages.\n",
      "\n",
      "  Downloading scikit_learn-1.4.2-cp312-cp312-win_amd64.whl.metadata (11 kB)\n",
      "Requirement already satisfied: numpy>=1.19.5 in c:\\users\\xiaoma\\appdata\\local\\programs\\python\\python312\\lib\\site-packages (from scikit-learn) (1.26.4)\n",
      "Collecting scipy>=1.6.0 (from scikit-learn)\n",
      "  Downloading scipy-1.13.0-cp312-cp312-win_amd64.whl.metadata (60 kB)\n",
      "     ---------------------------------------- 0.0/60.6 kB ? eta -:--:--\n",
      "     ---------------------------------------- 0.0/60.6 kB ? eta -:--:--\n",
      "     ------ --------------------------------- 10.2/60.6 kB ? eta -:--:--\n",
      "     -------------------------------------- 60.6/60.6 kB 535.5 kB/s eta 0:00:00\n",
      "Collecting joblib>=1.2.0 (from scikit-learn)\n",
      "  Downloading joblib-1.4.2-py3-none-any.whl.metadata (5.4 kB)\n",
      "Collecting threadpoolctl>=2.0.0 (from scikit-learn)\n",
      "  Downloading threadpoolctl-3.5.0-py3-none-any.whl.metadata (13 kB)\n",
      "Downloading scikit_learn-1.4.2-cp312-cp312-win_amd64.whl (10.6 MB)\n",
      "   ---------------------------------------- 0.0/10.6 MB ? eta -:--:--\n",
      "   ---------------------------------------- 0.1/10.6 MB 1.7 MB/s eta 0:00:07\n",
      "   - -------------------------------------- 0.4/10.6 MB 3.7 MB/s eta 0:00:03\n",
      "   --- ------------------------------------ 0.9/10.6 MB 6.0 MB/s eta 0:00:02\n",
      "   ------ --------------------------------- 1.7/10.6 MB 8.9 MB/s eta 0:00:02\n",
      "   ---------- ----------------------------- 2.8/10.6 MB 11.8 MB/s eta 0:00:01\n",
      "   -------------- ------------------------- 3.8/10.6 MB 14.2 MB/s eta 0:00:01\n",
      "   -------------- ------------------------- 3.8/10.6 MB 14.2 MB/s eta 0:00:01\n",
      "   ---------------- ----------------------- 4.3/10.6 MB 11.8 MB/s eta 0:00:01\n",
      "   ---------------- ----------------------- 4.3/10.6 MB 11.8 MB/s eta 0:00:01\n",
      "   ----------------------- ---------------- 6.4/10.6 MB 15.0 MB/s eta 0:00:01\n",
      "   -------------------------- ------------- 7.0/10.6 MB 13.5 MB/s eta 0:00:01\n",
      "   ------------------------------- -------- 8.4/10.6 MB 15.3 MB/s eta 0:00:01\n",
      "   ------------------------------------ --- 9.8/10.6 MB 16.5 MB/s eta 0:00:01\n",
      "   ---------------------------------------  10.6/10.6 MB 19.3 MB/s eta 0:00:01\n",
      "   ---------------------------------------- 10.6/10.6 MB 18.2 MB/s eta 0:00:00\n",
      "Downloading joblib-1.4.2-py3-none-any.whl (301 kB)\n",
      "   ---------------------------------------- 0.0/301.8 kB ? eta -:--:--\n",
      "   ---------------------------------------- 301.8/301.8 kB 9.1 MB/s eta 0:00:00\n",
      "Downloading scipy-1.13.0-cp312-cp312-win_amd64.whl (45.9 MB)\n",
      "   ---------------------------------------- 0.0/45.9 MB ? eta -:--:--\n",
      "   - -------------------------------------- 1.5/45.9 MB 46.9 MB/s eta 0:00:01\n",
      "   -- ------------------------------------- 3.1/45.9 MB 39.6 MB/s eta 0:00:02\n",
      "   ---- ----------------------------------- 4.7/45.9 MB 37.4 MB/s eta 0:00:02\n",
      "   ----- ---------------------------------- 6.3/45.9 MB 36.6 MB/s eta 0:00:02\n",
      "   ------ --------------------------------- 7.7/45.9 MB 35.5 MB/s eta 0:00:02\n",
      "   -------- ------------------------------- 9.4/45.9 MB 35.5 MB/s eta 0:00:02\n",
      "   --------- ------------------------------ 11.0/45.9 MB 34.4 MB/s eta 0:00:02\n",
      "   ---------- ----------------------------- 12.4/45.9 MB 34.4 MB/s eta 0:00:01\n",
      "   ------------ --------------------------- 14.1/45.9 MB 34.4 MB/s eta 0:00:01\n",
      "   ------------- -------------------------- 15.7/45.9 MB 34.4 MB/s eta 0:00:01\n",
      "   --------------- ------------------------ 17.4/45.9 MB 34.4 MB/s eta 0:00:01\n",
      "   ---------------- ----------------------- 19.0/45.9 MB 34.6 MB/s eta 0:00:01\n",
      "   ----------------- ---------------------- 20.6/45.9 MB 34.4 MB/s eta 0:00:01\n",
      "   ------------------- -------------------- 22.3/45.9 MB 36.4 MB/s eta 0:00:01\n",
      "   -------------------- ------------------- 23.8/45.9 MB 34.4 MB/s eta 0:00:01\n",
      "   ---------------------- ----------------- 25.5/45.9 MB 34.4 MB/s eta 0:00:01\n",
      "   ----------------------- ---------------- 27.1/45.9 MB 34.4 MB/s eta 0:00:01\n",
      "   ------------------------ --------------- 28.6/45.9 MB 34.4 MB/s eta 0:00:01\n",
      "   -------------------------- ------------- 30.2/45.9 MB 34.4 MB/s eta 0:00:01\n",
      "   --------------------------- ------------ 31.8/45.9 MB 34.6 MB/s eta 0:00:01\n",
      "   ----------------------------- ---------- 33.4/45.9 MB 34.4 MB/s eta 0:00:01\n",
      "   ------------------------------ --------- 35.1/45.9 MB 34.4 MB/s eta 0:00:01\n",
      "   ------------------------------- -------- 36.5/45.9 MB 34.4 MB/s eta 0:00:01\n",
      "   --------------------------------- ------ 38.2/45.9 MB 34.4 MB/s eta 0:00:01\n",
      "   ---------------------------------- ----- 40.0/45.9 MB 34.4 MB/s eta 0:00:01\n",
      "   ------------------------------------ --- 41.5/45.9 MB 34.4 MB/s eta 0:00:01\n",
      "   ------------------------------------- -- 43.0/45.9 MB 34.4 MB/s eta 0:00:01\n",
      "   -------------------------------------- - 44.6/45.9 MB 34.6 MB/s eta 0:00:01\n",
      "   ---------------------------------------  45.9/45.9 MB 32.8 MB/s eta 0:00:01\n",
      "   ---------------------------------------  45.9/45.9 MB 32.8 MB/s eta 0:00:01\n",
      "   ---------------------------------------- 45.9/45.9 MB 26.2 MB/s eta 0:00:00\n",
      "Downloading threadpoolctl-3.5.0-py3-none-any.whl (18 kB)\n",
      "Installing collected packages: threadpoolctl, scipy, joblib, scikit-learn\n",
      "Successfully installed joblib-1.4.2 scikit-learn-1.4.2 scipy-1.13.0 threadpoolctl-3.5.0\n"
     ]
    }
   ],
   "source": [
    "pip install scikit-learn"
   ]
  },
  {
   "cell_type": "code",
   "execution_count": null,
   "id": "bfb62a92-52fd-4ea0-9abd-eb7b7414d650",
   "metadata": {},
   "outputs": [],
   "source": []
  }
 ],
 "metadata": {
  "kernelspec": {
   "display_name": "Python 3 (ipykernel)",
   "language": "python",
   "name": "python3"
  },
  "language_info": {
   "codemirror_mode": {
    "name": "ipython",
    "version": 3
   },
   "file_extension": ".py",
   "mimetype": "text/x-python",
   "name": "python",
   "nbconvert_exporter": "python",
   "pygments_lexer": "ipython3",
   "version": "3.12.3"
  }
 },
 "nbformat": 4,
 "nbformat_minor": 5
}
